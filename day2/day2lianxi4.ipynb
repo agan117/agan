{
 "cells": [
  {
   "cell_type": "code",
   "id": "initial_id",
   "metadata": {
    "collapsed": true,
    "ExecuteTime": {
     "end_time": "2025-06-29T07:39:11.554828Z",
     "start_time": "2025-06-29T07:39:11.523068Z"
    }
   },
   "source": [
    "import numpy as np\n",
    "# ===== 作业1：数组创建与属性分析 =====\n",
    "# 创建3x4的二维数组，元素为1到12\n",
    "arr = np.array([[1, 2, 3, 4],\n",
    "                [5, 6, 7, 8],\n",
    "                [9, 10, 11, 12]])\n",
    "\n",
    "# 1.1 打印数组属性\n",
    "print(\"数组形状:\", arr.shape)  # (3, 4)\n",
    "print(\"数组维度:\", arr.ndim)   # 2\n",
    "print(\"数据类型:\", arr.dtype)  # int32或int64\n",
    "\n",
    "# 1.2 数组元素乘以2\n",
    "arr_doubled = arr * 2\n",
    "print(\"元素乘以2后的数组:\\n\", arr_doubled)\n",
    "\n",
    "# 1.3 重塑为4x3\n",
    "arr_reshaped = arr.reshape(4, 3)\n",
    "print(\"重塑为4x3的数组:\\n\", arr_reshaped)\n",
    "\n",
    "# ===== 作业2：数组索引与切片 =====\n",
    "array = np.array([[1, 2, 3, 4],\n",
    "                  [5, 6, 7, 8],\n",
    "                  [9, 10, 11, 12],\n",
    "                  [13, 14, 15, 16]])"
   ],
   "outputs": [
    {
     "name": "stdout",
     "output_type": "stream",
     "text": [
      "数组形状: (3, 4)\n",
      "数组维度: 2\n",
      "数据类型: int64\n",
      "元素乘以2后的数组:\n",
      " [[ 2  4  6  8]\n",
      " [10 12 14 16]\n",
      " [18 20 22 24]]\n",
      "重塑为4x3的数组:\n",
      " [[ 1  2  3]\n",
      " [ 4  5  6]\n",
      " [ 7  8  9]\n",
      " [10 11 12]]\n"
     ]
    }
   ],
   "execution_count": 10
  },
  {
   "metadata": {
    "ExecuteTime": {
     "end_time": "2025-06-29T07:39:14.713172Z",
     "start_time": "2025-06-29T07:39:14.681751Z"
    }
   },
   "cell_type": "code",
   "source": [
    "# 2.1 提取第2行所有元素（注意索引从0开始）\n",
    "row_2 = array[1, :]\n",
    "print(\"\\n第2行所有元素:\", row_2)  # [5 6 7 8]\n",
    "\n",
    "# 2.2 提取第3列所有元素\n",
    "col_3 = array[:, 2]\n",
    "print(\"第3列所有元素:\", col_3)  # [3 7 11 15]\n",
    "\n",
    "# 2.3 提取子数组（第1-2行，第2-3列）\n",
    "sub_array = array[0:2, 1:3]\n",
    "print(\"子数组:\\n\", sub_array)  # [[2 3][6 7]]\n",
    "\n",
    "# 2.4 将大于10的元素替换为0\n",
    "array[array > 10] = 0\n",
    "print(\"替换后的数组:\\n\", array)"
   ],
   "id": "4f4011d0b602087e",
   "outputs": [
    {
     "name": "stdout",
     "output_type": "stream",
     "text": [
      "\n",
      "第2行所有元素: [5 6 7 8]\n",
      "第3列所有元素: [ 3  7 11 15]\n",
      "子数组:\n",
      " [[2 3]\n",
      " [6 7]]\n",
      "替换后的数组:\n",
      " [[ 1  2  3  4]\n",
      " [ 5  6  7  8]\n",
      " [ 9 10  0  0]\n",
      " [ 0  0  0  0]]\n"
     ]
    }
   ],
   "execution_count": 11
  },
  {
   "metadata": {
    "ExecuteTime": {
     "end_time": "2025-06-29T07:39:17.156619Z",
     "start_time": "2025-06-29T07:39:17.149769Z"
    }
   },
   "cell_type": "code",
   "source": [
    "# ===== 作业3：数组运算与广播 =====\n",
    "# 创建数组A（3x2）和数组B（1x2）\n",
    "A = np.array([[1, 2],\n",
    "              [3, 4],\n",
    "              [5, 6]])\n",
    "B = np.array([10, 20])\n",
    "\n",
    "# 3.1 逐元素相加（广播）\n",
    "add_result = A + B\n",
    "print(\"\\nA + B:\\n\", add_result)  # [[11 22][13 24][15 26]]\n",
    "\n",
    "# 3.2 逐元素相乘（广播）\n",
    "mul_result = A * B\n",
    "print(\"A * B:\\n\", mul_result)  # [[10 40][30 80][50 120]]\n",
    "\n",
    "# 3.3 计算A的每一行与B的点积\n",
    "dot_result = np.dot(A, B)  # 或使用 A @ B\n",
    "print(\"A每行与B的点积:\", dot_result)  # [50 110 170]"
   ],
   "id": "2aef2bcabf7db4dd",
   "outputs": [
    {
     "name": "stdout",
     "output_type": "stream",
     "text": [
      "\n",
      "A + B:\n",
      " [[11 22]\n",
      " [13 24]\n",
      " [15 26]]\n",
      "A * B:\n",
      " [[ 10  40]\n",
      " [ 30  80]\n",
      " [ 50 120]]\n",
      "A每行与B的点积: [ 50 110 170]\n"
     ]
    }
   ],
   "execution_count": 12
  }
 ],
 "metadata": {
  "kernelspec": {
   "display_name": "Python 3",
   "language": "python",
   "name": "python3"
  },
  "language_info": {
   "codemirror_mode": {
    "name": "ipython",
    "version": 2
   },
   "file_extension": ".py",
   "mimetype": "text/x-python",
   "name": "python",
   "nbconvert_exporter": "python",
   "pygments_lexer": "ipython2",
   "version": "2.7.6"
  }
 },
 "nbformat": 4,
 "nbformat_minor": 5
}
