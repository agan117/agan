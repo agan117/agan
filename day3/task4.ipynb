{
 "cells": [
  {
   "cell_type": "code",
   "id": "initial_id",
   "metadata": {
    "collapsed": true,
    "ExecuteTime": {
     "end_time": "2025-06-30T06:15:46.210337Z",
     "start_time": "2025-06-30T06:15:45.774904Z"
    }
   },
   "source": [
    "import pandas as pd\n",
    "# 读取CSV文件\n",
    "df = pd.read_csv('drinks.csv')"
   ],
   "outputs": [],
   "execution_count": 2
  },
  {
   "metadata": {
    "ExecuteTime": {
     "end_time": "2025-06-30T06:16:04.395284Z",
     "start_time": "2025-06-30T06:16:04.381026Z"
    }
   },
   "cell_type": "code",
   "source": [
    "# 1. 哪个大陆平均消耗的啤酒更多？\n",
    "beer_by_continent = df.groupby('continent')['beer_servings'].mean()\n",
    "max_beer_continent = beer_by_continent.idxmax()\n",
    "print(f\"1. 平均啤酒消耗最多的大陆是: {max_beer_continent} (平均{beer_by_continent[max_beer_continent]:.1f}份)\\n\")\n"
   ],
   "id": "682a7fdf7ec76aaa",
   "outputs": [
    {
     "name": "stdout",
     "output_type": "stream",
     "text": [
      "1. 平均啤酒消耗最多的大陆是: EU (平均193.8份)\n",
      "\n"
     ]
    }
   ],
   "execution_count": 3
  },
  {
   "metadata": {
    "ExecuteTime": {
     "end_time": "2025-06-30T06:16:14.540236Z",
     "start_time": "2025-06-30T06:16:14.495979Z"
    }
   },
   "cell_type": "code",
   "source": [
    "# 2. 每个大陆的红酒消耗描述性统计\n",
    "wine_stats = df.groupby('continent')['wine_servings'].describe()\n",
    "print(\"2. 每个大陆红酒消耗的描述性统计:\")\n",
    "print(wine_stats.to_string())\n",
    "print(\"\\n\")"
   ],
   "id": "9e66ca49db9144b5",
   "outputs": [
    {
     "name": "stdout",
     "output_type": "stream",
     "text": [
      "2. 每个大陆红酒消耗的描述性统计:\n",
      "           count        mean        std  min   25%    50%     75%    max\n",
      "continent                                                               \n",
      "AF          53.0   16.264151  38.846419  0.0   1.0    2.0   13.00  233.0\n",
      "AS          44.0    9.068182  21.667034  0.0   0.0    1.0    8.00  123.0\n",
      "EU          45.0  142.222222  97.421738  0.0  59.0  128.0  195.00  370.0\n",
      "OC          16.0   35.625000  64.555790  0.0   1.0    8.5   23.25  212.0\n",
      "SA          12.0   62.416667  88.620189  1.0   3.0   12.0   98.50  221.0\n",
      "\n",
      "\n"
     ]
    }
   ],
   "execution_count": 4
  },
  {
   "metadata": {
    "ExecuteTime": {
     "end_time": "2025-06-30T06:16:25.820647Z",
     "start_time": "2025-06-30T06:16:25.806724Z"
    }
   },
   "cell_type": "code",
   "source": [
    "# 3. 每个大陆每种酒类别的消耗平均值\n",
    "avg_consumption = df.groupby('continent')[['beer_servings', 'spirit_servings', 'wine_servings', 'total_litres_of_pure_alcohol']].mean()\n",
    "print(\"3. 每个大陆每种酒类别的平均消耗:\")\n",
    "print(avg_consumption.to_string())\n",
    "print(\"\\n\")"
   ],
   "id": "2efd5a514f0ee40e",
   "outputs": [
    {
     "name": "stdout",
     "output_type": "stream",
     "text": [
      "3. 每个大陆每种酒类别的平均消耗:\n",
      "           beer_servings  spirit_servings  wine_servings  total_litres_of_pure_alcohol\n",
      "continent                                                                             \n",
      "AF             61.471698        16.339623      16.264151                      3.007547\n",
      "AS             37.045455        60.840909       9.068182                      2.170455\n",
      "EU            193.777778       132.555556     142.222222                      8.617778\n",
      "OC             89.687500        58.437500      35.625000                      3.381250\n",
      "SA            175.083333       114.750000      62.416667                      6.308333\n",
      "\n",
      "\n"
     ]
    }
   ],
   "execution_count": 5
  },
  {
   "metadata": {
    "ExecuteTime": {
     "end_time": "2025-06-30T06:16:35.109945Z",
     "start_time": "2025-06-30T06:16:35.099995Z"
    }
   },
   "cell_type": "code",
   "source": [
    "# 4. 每个大陆每种酒类别的消耗中位数\n",
    "median_consumption = df.groupby('continent')[['beer_servings', 'spirit_servings', 'wine_servings', 'total_litres_of_pure_alcohol']].median()\n",
    "print(\"4. 每个大陆每种酒类别的消耗中位数:\")\n",
    "print(median_consumption.to_string())"
   ],
   "id": "54de380e2eb005b",
   "outputs": [
    {
     "name": "stdout",
     "output_type": "stream",
     "text": [
      "4. 每个大陆每种酒类别的消耗中位数:\n",
      "           beer_servings  spirit_servings  wine_servings  total_litres_of_pure_alcohol\n",
      "continent                                                                             \n",
      "AF                  32.0              3.0            2.0                          2.30\n",
      "AS                  17.5             16.0            1.0                          1.20\n",
      "EU                 219.0            122.0          128.0                         10.00\n",
      "OC                  52.5             37.0            8.5                          1.75\n",
      "SA                 162.5            108.5           12.0                          6.85\n"
     ]
    }
   ],
   "execution_count": 6
  }
 ],
 "metadata": {
  "kernelspec": {
   "display_name": "Python 3",
   "language": "python",
   "name": "python3"
  },
  "language_info": {
   "codemirror_mode": {
    "name": "ipython",
    "version": 2
   },
   "file_extension": ".py",
   "mimetype": "text/x-python",
   "name": "python",
   "nbconvert_exporter": "python",
   "pygments_lexer": "ipython2",
   "version": "2.7.6"
  }
 },
 "nbformat": 4,
 "nbformat_minor": 5
}
