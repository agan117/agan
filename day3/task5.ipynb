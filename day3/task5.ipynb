{
 "cells": [
  {
   "cell_type": "code",
   "id": "initial_id",
   "metadata": {
    "collapsed": true,
    "ExecuteTime": {
     "end_time": "2025-06-30T07:28:08.473564Z",
     "start_time": "2025-06-30T07:28:08.066190Z"
    }
   },
   "source": [
    "import pandas as pd\n",
    "import numpy as np\n",
    "\n",
    "# 1. 读取并合并三个CSV文件\n",
    "df_2015 = pd.read_csv('2015年国内主要城市年度数据.csv', encoding='utf-8-sig')\n",
    "df_2016 = pd.read_csv('2016年国内主要城市年度数据.csv', encoding='utf-8-sig')\n",
    "df_2017 = pd.read_csv('2017年国内主要城市年度数据.csv', encoding='utf-8-sig')"
   ],
   "outputs": [],
   "execution_count": 6
  },
  {
   "metadata": {
    "ExecuteTime": {
     "end_time": "2025-06-30T07:28:12.201221Z",
     "start_time": "2025-06-30T07:28:12.196607Z"
    }
   },
   "cell_type": "code",
   "source": [
    "# 纵向连接三个数据框\n",
    "merged_df = pd.concat([df_2015, df_2016, df_2017], ignore_index=True)"
   ],
   "id": "7b63666c4873c907",
   "outputs": [],
   "execution_count": 7
  },
  {
   "metadata": {
    "ExecuteTime": {
     "end_time": "2025-06-30T07:28:14.425877Z",
     "start_time": "2025-06-30T07:28:14.421750Z"
    }
   },
   "cell_type": "code",
   "source": [
    "# 2. 按年份分组聚合\n",
    "yearly_data = merged_df.groupby('年份')"
   ],
   "id": "565299d30eae60c0",
   "outputs": [],
   "execution_count": 8
  },
  {
   "metadata": {
    "ExecuteTime": {
     "end_time": "2025-06-30T07:28:16.249634Z",
     "start_time": "2025-06-30T07:28:16.243660Z"
    }
   },
   "cell_type": "code",
   "source": [
    "# 3. 计算每年的国内生产总值总和\n",
    "gdp_by_year = yearly_data['国内生产总值'].sum()\n",
    "print(\"各年份国内生产总值总和:\")\n",
    "print(gdp_by_year.to_string())\n",
    "print(\"\\n\")"
   ],
   "id": "21c9661da2aab396",
   "outputs": [
    {
     "name": "stdout",
     "output_type": "stream",
     "text": [
      "各年份国内生产总值总和:\n",
      "年份\n",
      "2015    277958.37\n",
      "2016    300696.10\n",
      "2017    332562.43\n",
      "\n",
      "\n"
     ]
    }
   ],
   "execution_count": 9
  },
  {
   "metadata": {
    "ExecuteTime": {
     "end_time": "2025-06-30T07:28:18.625664Z",
     "start_time": "2025-06-30T07:28:18.617274Z"
    }
   },
   "cell_type": "code",
   "source": [
    "# 4. 处理缺失值（填充为0）\n",
    "filled_df = merged_df.fillna(0)\n",
    "# 检查填充结果\n",
    "print(\"缺失值处理后的数据示例:\")\n",
    "print(filled_df.head().to_string())"
   ],
   "id": "78408c7ae6c249c1",
   "outputs": [
    {
     "name": "stdout",
     "output_type": "stream",
     "text": [
      "缺失值处理后的数据示例:\n",
      "     地区    年份    国内生产总值  第一产业增加值  第二产业增加值   第三产业增加值  社会商品零售总额    货物进出口总额    年末总人口  在岗职工平均工资  普通高等学校在校学生数  医院、卫生院数  房地产开发投资额\n",
      "0    北京  2015  23014.59   140.21  4542.64  18331.74   10338.0  319416.16  1345.20    113073        60.36      701   4177.05\n",
      "1    天津  2015  16538.19   208.82  7704.22   8625.15    5257.3  114282.80  1026.90     81486        51.29      661   1871.55\n",
      "2   石家庄  2015   5440.60   494.44  2452.40   2493.77    2693.0   12160.29  1028.84     54441        41.98      393    965.13\n",
      "3    太原  2015   2735.34    37.40  1020.18   1677.77    1540.8   10677.38   367.39     60516        42.14      247    597.83\n",
      "4  呼和浩特  2015   3090.52   126.23   867.08   2097.21    1353.5    2072.75   238.58     53698        23.52      174    509.05\n"
     ]
    }
   ],
   "execution_count": 10
  },
  {
   "metadata": {
    "ExecuteTime": {
     "end_time": "2025-06-30T07:36:50.178384Z",
     "start_time": "2025-06-30T07:36:50.160288Z"
    }
   },
   "cell_type": "code",
   "source": [
    "# 5. 修正后的增长率计算方式\n",
    "def calculate_growth(df):\n",
    "    # 先筛选出每个城市三年的数据\n",
    "    city_gdp = df.pivot(index='年份', columns='地区', values='国内生产总值')\n",
    "\n",
    "    # 计算年均复合增长率\n",
    "    growth_rates = {}\n",
    "    for city in city_gdp.columns:\n",
    "        gdp_values = city_gdp[city]\n",
    "        if len(gdp_values) == 3 and gdp_values[2015] > 0:\n",
    "            cagr = ((gdp_values[2017] / gdp_values[2015]) ** (1/2) -(1))\n",
    "            growth_rates[city] = cagr * 100\n",
    "\n",
    "    return pd.DataFrame({\n",
    "        '城市': growth_rates.keys(),\n",
    "        'GDP年均增长率(%)': growth_rates.values()\n",
    "    }).sort_values('GDP年均增长率(%)', ascending=False)\n",
    "\n",
    "growth_rates = calculate_growth(merged_df)\n",
    "\n",
    "print(\"GDP年均增长率最高的5个城市:\")\n",
    "print(growth_rates.head(5).to_string(index=False))\n",
    "print(\"\\nGDP年均增长率最低的5个城市:\")\n",
    "print(growth_rates.tail(5).to_string(index=False))\n",
    "print(\"\\n\")"
   ],
   "id": "312385e10371b3c1",
   "outputs": [
    {
     "name": "stdout",
     "output_type": "stream",
     "text": [
      "GDP年均增长率最高的5个城市:\n",
      "城市  GDP年均增长率(%)\n",
      "西安    13.474172\n",
      "成都    13.398259\n",
      "深圳    13.355030\n",
      "合肥    12.889341\n",
      "拉萨    12.788795\n",
      "\n",
      "GDP年均增长率最低的5个城市:\n",
      "  城市  GDP年均增长率(%)\n",
      " 哈尔滨     5.118674\n",
      "乌鲁木齐     2.109128\n",
      "  大连    -2.406989\n",
      "呼和浩特    -5.777610\n",
      "  沈阳   -10.195788\n",
      "\n",
      "\n"
     ]
    }
   ],
   "execution_count": 21
  },
  {
   "metadata": {
    "ExecuteTime": {
     "end_time": "2025-06-30T07:40:39.994398Z",
     "start_time": "2025-06-30T07:40:39.973258Z"
    }
   },
   "cell_type": "code",
   "source": [
    "def normalize_hospitals(df):\n",
    "    result = df.copy()\n",
    "\n",
    "    # 按年份分组计算每组的min-max\n",
    "    grouped = df.groupby('年份')['医院、卫生院数']\n",
    "    min_values = grouped.min().to_dict()\n",
    "    max_values = grouped.max().to_dict()\n",
    "\n",
    "    # 应用归一化\n",
    "    for year in df['年份'].unique():\n",
    "        year_mask = df['年份'] == year\n",
    "        min_val = min_values[year]\n",
    "        max_val = max_values[year]\n",
    "        diff = max_val - min_val\n",
    "\n",
    "        # 处理除零情况\n",
    "        if diff > 0:\n",
    "            result.loc[year_mask, '医院标准化值'] = (df.loc[year_mask, '医院、卫生院数'] - min_val) / diff\n",
    "        else:\n",
    "            result.loc[year_mask, '医院标准化值'] = 0.5  # 当所有值相同时设为中间值\n",
    "\n",
    "    return result\n",
    "\n",
    "# 应用归一化\n",
    "normalized_df = normalize_hospitals(merged_df)\n",
    "\n",
    "# 按年份和地区展示结果\n",
    "print(\"各城市医疗资源标准化结果（按年份比较）:\")\n",
    "for year in sorted(normalized_df['年份'].unique()):\n",
    "    print(f\"\\n年份 {year}:\")\n",
    "    yearly_data = normalized_df[normalized_df['年份'] == year]\n",
    "    print(yearly_data[['地区', '医院、卫生院数', '医院标准化值']]\n",
    "          .sort_values('医院标准化值', ascending=False)\n",
    "          .head(10)\n",
    "          .to_string(index=False))"
   ],
   "id": "194a11703adec814",
   "outputs": [
    {
     "name": "stdout",
     "output_type": "stream",
     "text": [
      "各城市医疗资源标准化结果（按年份比较）:\n",
      "\n",
      "年份 2015:\n",
      " 地区  医院、卫生院数   医院标准化值\n",
      " 重庆     1568 1.000000\n",
      " 成都      768 0.470199\n",
      " 北京      701 0.425828\n",
      " 天津      661 0.399338\n",
      " 上海      644 0.388079\n",
      " 合肥      470 0.272848\n",
      "哈尔滨      462 0.267550\n",
      " 西安      395 0.223179\n",
      "石家庄      393 0.221854\n",
      " 昆明      392 0.221192\n",
      "\n",
      "年份 2016:\n",
      " 地区  医院、卫生院数   医院标准化值\n",
      " 重庆     1606 1.000000\n",
      " 成都      866 0.521345\n",
      " 北京      713 0.422380\n",
      " 上海      656 0.385511\n",
      " 天津      571 0.330530\n",
      "哈尔滨      471 0.265847\n",
      " 合肥      462 0.260026\n",
      "石家庄      425 0.236093\n",
      " 昆明      414 0.228978\n",
      " 西安      392 0.214748\n",
      "\n",
      "年份 2017:\n",
      " 地区  医院、卫生院数   医院标准化值\n",
      " 成都      888 1.000000\n",
      " 重庆      749 0.838372\n",
      " 北京      656 0.730233\n",
      " 天津      426 0.462791\n",
      " 青岛      410 0.444186\n",
      " 上海      363 0.389535\n",
      " 武汉      354 0.379070\n",
      " 西安      329 0.350000\n",
      "哈尔滨      310 0.327907\n",
      " 昆明      308 0.325581\n"
     ]
    }
   ],
   "execution_count": 25
  },
  {
   "metadata": {
    "ExecuteTime": {
     "end_time": "2025-06-30T07:30:55.663613Z",
     "start_time": "2025-06-30T07:30:55.619264Z"
    }
   },
   "cell_type": "code",
   "source": [
    "# 7. 提取四大城市数据\n",
    "big4 = ['北京', '上海', '广州', '深圳']\n",
    "big4_data = merged_df[merged_df['地区'].isin(big4)][['地区', '年份', '国内生产总值', '社会商品零售总额']]\n",
    "big4_pivot = big4_data.pivot(index='地区', columns='年份', values=['国内生产总值', '社会商品零售总额'])\n",
    "big4_pivot.to_csv('四大城市经济指标.csv', encoding='utf-8-sig')\n",
    "\n",
    "print(\"四大城市2015-2017年数据已保存到: 四大城市经济指标.csv\")\n",
    "print(\"数据预览:\")\n",
    "print(big4_pivot)"
   ],
   "id": "1cd8d4e84e746c5d",
   "outputs": [
    {
     "name": "stdout",
     "output_type": "stream",
     "text": [
      "四大城市2015-2017年数据已保存到: 四大城市经济指标.csv\n",
      "数据预览:\n",
      "      国内生产总值                     社会商品零售总额                  \n",
      "年份      2015      2016      2017     2015     2016     2017\n",
      "地区                                                         \n",
      "上海  25123.45  28178.65  30632.99  10131.5  10946.6  11830.3\n",
      "北京  23014.59  25669.13  28014.94  10338.0  11005.1  11575.4\n",
      "广州  18100.41  19547.44  21503.15   7988.0   8706.5   9402.6\n",
      "深圳  17502.86  19492.60  22490.06   5017.8   5512.8   6016.2\n"
     ]
    }
   ],
   "execution_count": 15
  }
 ],
 "metadata": {
  "kernelspec": {
   "display_name": "Python 3",
   "language": "python",
   "name": "python3"
  },
  "language_info": {
   "codemirror_mode": {
    "name": "ipython",
    "version": 2
   },
   "file_extension": ".py",
   "mimetype": "text/x-python",
   "name": "python",
   "nbconvert_exporter": "python",
   "pygments_lexer": "ipython2",
   "version": "2.7.6"
  }
 },
 "nbformat": 4,
 "nbformat_minor": 5
}
