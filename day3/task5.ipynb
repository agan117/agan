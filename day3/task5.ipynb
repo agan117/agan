{
 "cells": [
  {
   "cell_type": "code",
   "id": "initial_id",
   "metadata": {
    "collapsed": true,
    "ExecuteTime": {
     "end_time": "2025-06-30T07:11:09.205296Z",
     "start_time": "2025-06-30T07:11:08.456670Z"
    }
   },
   "source": [
    "import pandas as pd\n",
    "\n",
    "# 1. 读取并合并三个CSV文件\n",
    "df_2015 = pd.read_csv('2015年国内主要城市年度数据.csv', encoding='utf-8-sig')\n",
    "df_2016 = pd.read_csv('2016年国内主要城市年度数据.csv', encoding='utf-8-sig')\n",
    "df_2017 = pd.read_csv('2017年国内主要城市年度数据.csv', encoding='utf-8-sig')"
   ],
   "outputs": [],
   "execution_count": 1
  },
  {
   "metadata": {
    "ExecuteTime": {
     "end_time": "2025-06-30T07:11:30.114407Z",
     "start_time": "2025-06-30T07:11:30.108931Z"
    }
   },
   "cell_type": "code",
   "source": [
    "# 纵向连接三个数据框\n",
    "merged_df = pd.concat([df_2015, df_2016, df_2017], ignore_index=True)"
   ],
   "id": "7b63666c4873c907",
   "outputs": [],
   "execution_count": 2
  },
  {
   "metadata": {
    "ExecuteTime": {
     "end_time": "2025-06-30T07:11:43.192976Z",
     "start_time": "2025-06-30T07:11:43.188442Z"
    }
   },
   "cell_type": "code",
   "source": [
    "# 2. 按年份分组聚合\n",
    "yearly_data = merged_df.groupby('年份')"
   ],
   "id": "565299d30eae60c0",
   "outputs": [],
   "execution_count": 3
  },
  {
   "metadata": {
    "ExecuteTime": {
     "end_time": "2025-06-30T07:11:53.341776Z",
     "start_time": "2025-06-30T07:11:53.310220Z"
    }
   },
   "cell_type": "code",
   "source": [
    "# 3. 计算每年的国内生产总值总和\n",
    "gdp_by_year = yearly_data['国内生产总值'].sum()\n",
    "print(\"各年份国内生产总值总和:\")\n",
    "print(gdp_by_year.to_string())\n",
    "print(\"\\n\")"
   ],
   "id": "21c9661da2aab396",
   "outputs": [
    {
     "name": "stdout",
     "output_type": "stream",
     "text": [
      "各年份国内生产总值总和:\n",
      "年份\n",
      "2015    277958.37\n",
      "2016    300696.10\n",
      "2017    332562.43\n",
      "\n",
      "\n"
     ]
    }
   ],
   "execution_count": 4
  },
  {
   "metadata": {
    "ExecuteTime": {
     "end_time": "2025-06-30T07:13:20.966837Z",
     "start_time": "2025-06-30T07:13:20.957757Z"
    }
   },
   "cell_type": "code",
   "source": [
    "# 4. 处理缺失值（填充为0）\n",
    "filled_df = merged_df.fillna(0)\n",
    "# 检查填充结果\n",
    "print(\"缺失值处理后的数据示例:\")\n",
    "print(filled_df.head().to_string())"
   ],
   "id": "78408c7ae6c249c1",
   "outputs": [
    {
     "name": "stdout",
     "output_type": "stream",
     "text": [
      "缺失值处理后的数据示例:\n",
      "     地区    年份    国内生产总值  第一产业增加值  第二产业增加值   第三产业增加值  社会商品零售总额    货物进出口总额    年末总人口  在岗职工平均工资  普通高等学校在校学生数  医院、卫生院数  房地产开发投资额\n",
      "0    北京  2015  23014.59   140.21  4542.64  18331.74   10338.0  319416.16  1345.20    113073        60.36      701   4177.05\n",
      "1    天津  2015  16538.19   208.82  7704.22   8625.15    5257.3  114282.80  1026.90     81486        51.29      661   1871.55\n",
      "2   石家庄  2015   5440.60   494.44  2452.40   2493.77    2693.0   12160.29  1028.84     54441        41.98      393    965.13\n",
      "3    太原  2015   2735.34    37.40  1020.18   1677.77    1540.8   10677.38   367.39     60516        42.14      247    597.83\n",
      "4  呼和浩特  2015   3090.52   126.23   867.08   2097.21    1353.5    2072.75   238.58     53698        23.52      174    509.05\n"
     ]
    }
   ],
   "execution_count": 8
  }
 ],
 "metadata": {
  "kernelspec": {
   "display_name": "Python 3",
   "language": "python",
   "name": "python3"
  },
  "language_info": {
   "codemirror_mode": {
    "name": "ipython",
    "version": 2
   },
   "file_extension": ".py",
   "mimetype": "text/x-python",
   "name": "python",
   "nbconvert_exporter": "python",
   "pygments_lexer": "ipython2",
   "version": "2.7.6"
  }
 },
 "nbformat": 4,
 "nbformat_minor": 5
}
