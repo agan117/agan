{
 "cells": [
  {
   "cell_type": "code",
   "id": "initial_id",
   "metadata": {
    "collapsed": true,
    "ExecuteTime": {
     "end_time": "2025-06-30T08:19:30.118098Z",
     "start_time": "2025-06-30T08:19:29.559338Z"
    }
   },
   "source": [
    "import pandas as pd\n",
    "import numpy as np\n",
    "\n",
    "# 创建数据\n",
    "data = {\n",
    "    'Student_ID': [101, 102, 103, 104, 105],\n",
    "    'Name': ['Alice', 'Bob', None, 'David', 'Eve'],\n",
    "    'Score': [85, 92, 78, np.nan, 88],\n",
    "    'Grade': ['A', 'A', 'B', None, 'B+']\n",
    "}\n",
    "\n",
    "# 创建DataFrame\n",
    "df = pd.DataFrame(data)\n",
    "\n",
    "# 保存为CSV文件\n",
    "df.to_csv('students.csv', index=False)\n",
    "print(\"students.csv文件已创建\")"
   ],
   "outputs": [
    {
     "name": "stdout",
     "output_type": "stream",
     "text": [
      "students.csv文件已创建\n"
     ]
    }
   ],
   "execution_count": 1
  },
  {
   "metadata": {
    "ExecuteTime": {
     "end_time": "2025-06-30T08:19:52.632824Z",
     "start_time": "2025-06-30T08:19:52.604849Z"
    }
   },
   "cell_type": "code",
   "source": [
    "# 读取CSV文件\n",
    "students_df = pd.read_csv('students.csv')\n",
    "\n",
    "# 打印前3行\n",
    "print(\"\\n前3行数据:\")\n",
    "print(students_df.head(3))"
   ],
   "id": "306566e459915417",
   "outputs": [
    {
     "name": "stdout",
     "output_type": "stream",
     "text": [
      "\n",
      "前3行数据:\n",
      "   Student_ID   Name  Score Grade\n",
      "0         101  Alice   85.0     A\n",
      "1         102    Bob   92.0     A\n",
      "2         103    NaN   78.0     B\n"
     ]
    }
   ],
   "execution_count": 2
  },
  {
   "metadata": {
    "ExecuteTime": {
     "end_time": "2025-06-30T08:20:00.664872Z",
     "start_time": "2025-06-30T08:20:00.652858Z"
    }
   },
   "cell_type": "code",
   "source": [
    "# 填充Score列的缺失值为平均分\n",
    "score_mean = students_df['Score'].mean()\n",
    "students_df['Score'] = students_df['Score'].fillna(score_mean)\n",
    "\n",
    "# 填充Name列的缺失值为\"Unknown\"\n",
    "students_df['Name'] = students_df['Name'].fillna('Unknown')\n",
    "\n",
    "# 检查处理后的数据\n",
    "print(\"\\n处理后的数据:\")\n",
    "print(students_df)"
   ],
   "id": "cdbdcb61946ae23d",
   "outputs": [
    {
     "name": "stdout",
     "output_type": "stream",
     "text": [
      "\n",
      "处理后的数据:\n",
      "   Student_ID     Name  Score Grade\n",
      "0         101    Alice  85.00     A\n",
      "1         102      Bob  92.00     A\n",
      "2         103  Unknown  78.00     B\n",
      "3         104    David  85.75   NaN\n",
      "4         105      Eve  88.00    B+\n"
     ]
    }
   ],
   "execution_count": 3
  },
  {
   "metadata": {
    "ExecuteTime": {
     "end_time": "2025-06-30T08:20:31.047741Z",
     "start_time": "2025-06-30T08:20:31.041899Z"
    }
   },
   "cell_type": "code",
   "source": [
    "# 保存为新的CSV文件\n",
    "students_df.to_csv('students_cleaned.csv', index=False)\n",
    "print(\"\\n处理后的数据已保存为students_cleaned.csv\")"
   ],
   "id": "f8bcdbe5c36836e5",
   "outputs": [
    {
     "name": "stdout",
     "output_type": "stream",
     "text": [
      "\n",
      "处理后的数据已保存为students_cleaned.csv\n"
     ]
    }
   ],
   "execution_count": 4
  }
 ],
 "metadata": {
  "kernelspec": {
   "display_name": "Python 3",
   "language": "python",
   "name": "python3"
  },
  "language_info": {
   "codemirror_mode": {
    "name": "ipython",
    "version": 2
   },
   "file_extension": ".py",
   "mimetype": "text/x-python",
   "name": "python",
   "nbconvert_exporter": "python",
   "pygments_lexer": "ipython2",
   "version": "2.7.6"
  }
 },
 "nbformat": 4,
 "nbformat_minor": 5
}
